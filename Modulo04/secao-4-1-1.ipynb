{
 "cells": [
  {
   "cell_type": "markdown",
   "metadata": {},
   "source": [
    "# 4.1.1 - Funções "
   ]
  },
  {
   "cell_type": "code",
   "execution_count": null,
   "metadata": {},
   "outputs": [],
   "source": [
    "# minha primeira função\n",
    "def nome_funcao(): # definição da função\n",
    "    print(\"Minha funcao executou algo\")\n",
    "# chamando minha funcao\n",
    "nome_funcao() # a chamada da função só pode ser feita após definição da função\n"
   ]
  }
 ],
 "metadata": {
  "kernelspec": {
   "display_name": ".venv",
   "language": "python",
   "name": "python3"
  },
  "language_info": {
   "name": "python",
   "version": "3.13.2"
  }
 },
 "nbformat": 4,
 "nbformat_minor": 2
}
