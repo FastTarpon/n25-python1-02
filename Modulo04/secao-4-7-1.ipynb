{
 "cells": [
  {
   "cell_type": "markdown",
   "metadata": {},
   "source": [
    "# 4.7.1 - Exceções\n",
    "Tratamento de erros no python"
   ]
  },
  {
   "cell_type": "code",
   "execution_count": null,
   "metadata": {},
   "outputs": [
    {
     "name": "stdout",
     "output_type": "stream",
     "text": [
      "Ocorreu um erro!\n",
      "Fim do programa!\n"
     ]
    }
   ],
   "source": [
    "# Exemplo de erro de execução de código\n",
    "# Tratamento de exceção genérico, qualquer erro cai no except\n",
    "try:\n",
    "    valor = int(input(\"Digite um valor:\"))\n",
    "    print(\"O valor resultante será: \", 1/valor)\n",
    "except: \n",
    "    print(\"Ocorreu um erro!\")\n",
    "print(\"Fim do programa!\")"
   ]
  },
  {
   "cell_type": "code",
   "execution_count": 16,
   "metadata": {},
   "outputs": [
    {
     "name": "stdout",
     "output_type": "stream",
     "text": [
      "Ocorreu um erro de conversão! Somente números\n",
      "Fim do programa!\n"
     ]
    }
   ],
   "source": [
    "# Exemplo de erro de execução de código\n",
    "try:\n",
    "    valor = int(input(\"Digite um valor:\"))\n",
    "    print(\"O valor resultante será: \", 1/valor)\n",
    "    lista = [1,2,3]\n",
    "    print(lista[5])\n",
    "except ValueError: \n",
    "    print(\"Ocorreu um erro de conversão! Somente números\")\n",
    "except ZeroDivisionError:\n",
    "    print(\"Ocorreu um erro de divisão por zero!\")\n",
    "except Exception as e: # base para todos os outros erros\n",
    "    print(\"Um outro erro ocorreu!\", e)\n",
    "print(\"Fim do programa!\")"
   ]
  },
  {
   "cell_type": "code",
   "execution_count": 18,
   "metadata": {},
   "outputs": [
    {
     "name": "stdout",
     "output_type": "stream",
     "text": [
      "O valor resultante será:  0.14285714285714285\n",
      "Um outro erro ocorreu! list index out of range\n",
      "Fim do programa!\n"
     ]
    }
   ],
   "source": [
    "# Exemplo de erro de execução de código tratado com exception com tupla\n",
    "try:\n",
    "    valor = int(input(\"Digite um valor:\"))\n",
    "    print(\"O valor resultante será: \", 1/valor)\n",
    "    lista = [1,2,3]\n",
    "    print(lista[5])\n",
    "except (ValueError, ZeroDivisionError): # Tupla\n",
    "    print(\"Ocorreu um erro de conversão! Somente números ou\")\n",
    "    print(\"Ocorreu um erro de divisão por zero!\")\n",
    "except Exception as e: # base para todos os outros erros, deve ser posicionado por último\n",
    "    print(\"Um outro erro ocorreu!\", e)\n",
    "print(\"Fim do programa!\")"
   ]
  },
  {
   "cell_type": "code",
   "execution_count": 20,
   "metadata": {},
   "outputs": [
    {
     "ename": "SyntaxError",
     "evalue": "unterminated string literal (detected at line 9) (2213567330.py, line 9)",
     "output_type": "error",
     "traceback": [
      "  \u001b[36mCell\u001b[39m\u001b[36m \u001b[39m\u001b[32mIn[20]\u001b[39m\u001b[32m, line 9\u001b[39m\n\u001b[31m    \u001b[39m\u001b[31mprint(\"Ocorreu um erro de conversão! Somente números ou\"\")\u001b[39m\n                                                            ^\n\u001b[31mSyntaxError\u001b[39m\u001b[31m:\u001b[39m unterminated string literal (detected at line 9)\n"
     ]
    }
   ],
   "source": [
    "# Exemplo de erro de execução de código tratado com exception com tupla\n",
    "try:\n",
    "    valor = int(input(\"Digite um valor:\"))\n",
    "    print(\"O valor resultante será: \", 1/valor)\n",
    "    lista = [1,2,3]\n",
    "    print(lista[5])\n",
    "except (ValueError, ZeroDivisionError) as x : # Tupla\n",
    "    if (type(x)==ValueError):\n",
    "    print(\"Ocorreu um erro de conversão! Somente números ou\"\")\n",
    "    else:\n",
    "    print(\"Ocorreu um erro de divisão por zero!\")\n",
    "except Exception as e: # base para todos os outros erros, deve ser posicionado por último\n",
    "    print(\"Um outro erro ocorreu!\", e)\n",
    "print(\"Fim do programa!\")"
   ]
  }
 ],
 "metadata": {
  "kernelspec": {
   "display_name": ".venv",
   "language": "python",
   "name": "python3"
  },
  "language_info": {
   "codemirror_mode": {
    "name": "ipython",
    "version": 3
   },
   "file_extension": ".py",
   "mimetype": "text/x-python",
   "name": "python",
   "nbconvert_exporter": "python",
   "pygments_lexer": "ipython3",
   "version": "3.13.2"
  }
 },
 "nbformat": 4,
 "nbformat_minor": 2
}
