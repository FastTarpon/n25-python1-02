{
 "cells": [
  {
   "cell_type": "markdown",
   "metadata": {},
   "source": [
    "# Literais em Python\n",
    "## Literais Inteiros"
   ]
  },
  {
   "cell_type": "code",
   "execution_count": 7,
   "metadata": {},
   "outputs": [
    {
     "name": "stdout",
     "output_type": "stream",
     "text": [
      "1\n",
      "10\n"
     ]
    }
   ],
   "source": [
    "print(1)\n",
    "print(10)"
   ]
  },
  {
   "cell_type": "markdown",
   "metadata": {},
   "source": [
    "### Inteiro na base 2 (binário)\n",
    "0b10 => 2"
   ]
  },
  {
   "cell_type": "code",
   "execution_count": 9,
   "metadata": {},
   "outputs": [
    {
     "name": "stdout",
     "output_type": "stream",
     "text": [
      "2\n"
     ]
    }
   ],
   "source": [
    "print(0b10) # 2"
   ]
  },
  {
   "cell_type": "markdown",
   "metadata": {},
   "source": [
    "### Inteiro na base 8 (octal)\n",
    "0o123"
   ]
  },
  {
   "cell_type": "code",
   "execution_count": 3,
   "metadata": {},
   "outputs": [
    {
     "name": "stdout",
     "output_type": "stream",
     "text": [
      "83\n"
     ]
    }
   ],
   "source": [
    "print(0o123) # 83\n",
    "# print(0123) # erro"
   ]
  },
  {
   "cell_type": "markdown",
   "metadata": {},
   "source": [
    "### Inteiro na base 16 (hexadecimal)\n",
    "0..9 e de A..F\n",
    "FF = 255\n",
    "0x123 = 291"
   ]
  },
  {
   "cell_type": "code",
   "execution_count": 6,
   "metadata": {},
   "outputs": [
    {
     "name": "stdout",
     "output_type": "stream",
     "text": [
      "291\n"
     ]
    }
   ],
   "source": [
    "print(0x123) "
   ]
  },
  {
   "cell_type": "markdown",
   "metadata": {},
   "source": [
    "### Floats - Númericos com casas decimais\n",
    "2e-22 signigfica 10 elevado a -22"
   ]
  },
  {
   "cell_type": "code",
   "execution_count": 10,
   "metadata": {},
   "outputs": [
    {
     "name": "stdout",
     "output_type": "stream",
     "text": [
      "1.0\n",
      "2.5\n",
      "3.0\n",
      "2e-22\n",
      "1e-22\n"
     ]
    }
   ],
   "source": [
    "print(1.0)\n",
    "print(2.5)\n",
    "print(3.)\n",
    "print(2e-22) \n",
    "print(0.0_000_000_000_000_000_000_001)"
   ]
  },
  {
   "cell_type": "markdown",
   "metadata": {},
   "source": [
    "### Strings - Textos\n",
    "\\t tabulação de 8 espaços\n",
    "\\n pula linha"
   ]
  },
  {
   "cell_type": "code",
   "execution_count": 13,
   "metadata": {},
   "outputs": [
    {
     "name": "stdout",
     "output_type": "stream",
     "text": [
      "texto com aspas duplas\n",
      "texto com aspas simples\n",
      "texto com escapes: \n",
      "\t\"\n",
      "texto com múltiplas\n",
      "linhas\n",
      "linha 2\n",
      "linha 3\n"
     ]
    }
   ],
   "source": [
    "print(\"texto com aspas duplas\")\n",
    "print('texto com aspas simples')\n",
    "print(\"texto com escapes: \\n\\t\\\"\")\n",
    "print(\"\"\"texto com múltiplas\n",
    "linhas\n",
    "linha 2\n",
    "linha 3\"\"\")"
   ]
  },
  {
   "cell_type": "markdown",
   "metadata": {},
   "source": [
    "### Booleanos - Lógicos (True ou False, 1 ou 0)\n",
    "Primeira letra maiúscula True e False\n",
    "1 > 0 True\n",
    "1 < 0 False"
   ]
  },
  {
   "cell_type": "code",
   "execution_count": 14,
   "metadata": {},
   "outputs": [
    {
     "name": "stdout",
     "output_type": "stream",
     "text": [
      "True\n",
      "False\n"
     ]
    }
   ],
   "source": [
    "print(True > False)\n",
    "print(True < False)"
   ]
  },
  {
   "cell_type": "markdown",
   "metadata": {},
   "source": [
    "### Laboratório 2.2.6\n",
    "Alt + Shift + seta para baixo duplica linha"
   ]
  },
  {
   "cell_type": "code",
   "execution_count": 21,
   "metadata": {},
   "outputs": [
    {
     "name": "stdout",
     "output_type": "stream",
     "text": [
      "\"Eu sou\"\n",
      "\"\"aprendizado\"\"\n",
      "\"\"\"Python\"\"\"\n",
      "\"Eu sou\"\"n\"\"aprendizado\"\"\n",
      "\"\"\"Python\"\"\"\n",
      "\"Eu sou\"\n",
      "\"\"aprendizado\"\"\n",
      "\"\"\"Python\"\"\"\n"
     ]
    }
   ],
   "source": [
    "print(\"\\\"Eu sou\\\"\\n\\\"\\\"aprendizado\\\"\\\"\\n\\\"\\\"\\\"Python\\\"\\\"\\\"\") # primeira forma\n",
    "print('\"Eu sou\"\\\"n\"\"aprendizado\"\"\\n\\\"\"\"Python\"\"\"') # segunda forma\n",
    "print('\"Eu sou\"','\"\"aprendizado\"\"','\"\"\"Python\"\"\"',sep=\"\\n\") # terceira forma"
   ]
  },
  {
   "cell_type": "markdown",
   "metadata": {},
   "source": [
    "### Literal None (nada)"
   ]
  },
  {
   "cell_type": "code",
   "execution_count": null,
   "metadata": {},
   "outputs": [],
   "source": []
  }
 ],
 "metadata": {
  "kernelspec": {
   "display_name": ".venv",
   "language": "python",
   "name": "python3"
  },
  "language_info": {
   "codemirror_mode": {
    "name": "ipython",
    "version": 3
   },
   "file_extension": ".py",
   "mimetype": "text/x-python",
   "name": "python",
   "nbconvert_exporter": "python",
   "pygments_lexer": "ipython3",
   "version": "3.13.2"
  }
 },
 "nbformat": 4,
 "nbformat_minor": 2
}
