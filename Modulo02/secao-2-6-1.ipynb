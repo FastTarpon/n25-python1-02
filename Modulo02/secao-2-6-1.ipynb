{
 "cells": [
  {
   "cell_type": "markdown",
   "metadata": {},
   "source": [
    "# Interação com o usuário\n",
    "### Função input()"
   ]
  },
  {
   "cell_type": "code",
   "execution_count": 10,
   "metadata": {},
   "outputs": [
    {
     "name": "stdout",
     "output_type": "stream",
     "text": [
      "Digite sua idade:\n",
      "Você tem   anos.\n"
     ]
    }
   ],
   "source": [
    "print(\"Digite sua idade:\")\n",
    "idade = input() ## input sempre devolve texto, para retornar um tipo numérico é necessário converter\n",
    "                ## é possível passar um argumento\n",
    "print(\"Você tem \" + idade + \" anos.\")"
   ]
  },
  {
   "cell_type": "code",
   "execution_count": 13,
   "metadata": {},
   "outputs": [
    {
     "name": "stdout",
     "output_type": "stream",
     "text": [
      "Você tem 34 anos.\n",
      "<class 'str'>\n"
     ]
    }
   ],
   "source": [
    "idade = input(\"Digite sua idade: \")\n",
    "print(\"Você tem \" + idade + \" anos.\")\n",
    "print(type(idade)) # verificando o tipo da variável idade, comprovando que input sempre devolve texto"
   ]
  },
  {
   "cell_type": "code",
   "execution_count": null,
   "metadata": {},
   "outputs": [
    {
     "name": "stdout",
     "output_type": "stream",
     "text": [
      "Voce nasceu em 1948.\n",
      "Voce nasceu em 1948.\n"
     ]
    }
   ],
   "source": [
    "# Isso não será possível fazer\n",
    "idade = int(input(\"Digite sua idade: \")) # se não converter dá erro abaixo\n",
    "ano_nascimento = 2025 - idade #erro de tipo, a idade é uma string deve-se converter para inteiro\n",
    "print(\"Voce nasceu em \" + str(ano_nascimento) + \".\") # convertendo o ano para string\n",
    "print(\"Voce nasceu em \",ano_nascimento,\".\",sep=\"\") # convertendo automaticamente para string, usando argumentos do print e sep sem espaço"
   ]
  },
  {
   "cell_type": "code",
   "execution_count": null,
   "metadata": {},
   "outputs": [
    {
     "name": "stdout",
     "output_type": "stream",
     "text": [
      "A temperatura em Fahrenheit é: 77.18°F\n"
     ]
    }
   ],
   "source": [
    "# Desenvolver um programa para solicitar o valor de uma temperatura\n",
    "# em graus Celsius e convertê-la para graus Fahrenheit.\n",
    "# A fórmula de conversão é:\n",
    "# F = C * 9/5 + 32\n",
    "celsius = float(input(\"Digite a temperatura em Celsius: \")) # Irá aprensentar errp se digitar por exemplo 25,1. Deve-se digitar 25.1, padrão americano\n",
    "fahrenheit = celsius * 9/5 + 32\n",
    "print(\"A temperatura em Fahrenheit é: \", fahrenheit, \"°F\", sep=\"\")"
   ]
  },
  {
   "cell_type": "code",
   "execution_count": 26,
   "metadata": {},
   "outputs": [
    {
     "name": "stderr",
     "output_type": "stream",
     "text": [
      "'[image.png]' n�o � reconhecido como um comando interno\n",
      "ou externo, um programa oper�vel ou um arquivo em lotes.\n"
     ]
    },
    {
     "name": "stdout",
     "output_type": "stream",
     "text": [
      "y = 0.6000000000000001\n"
     ]
    }
   ],
   "source": [
    "# Laboratório 2.6.10\n",
    "\n",
    "![image.png](attachment:image.png)\n",
    "\n",
    "x = float(input(\"Digite o valor para x: \"))\n",
    "\n",
    "y = 1 / ( x + 1 / (x + 1 / (x + 1 / x )))\n",
    "\n",
    "print(\"y =\", y)"
   ]
  },
  {
   "cell_type": "markdown",
   "metadata": {},
   "source": [
    "# Laboratório 2.6.11"
   ]
  },
  {
   "cell_type": "code",
   "execution_count": 29,
   "metadata": {},
   "outputs": [
    {
     "name": "stdout",
     "output_type": "stream",
     "text": [
      "13:16\n"
     ]
    }
   ],
   "source": [
    "hour = int(input(\"Hora de início (horas): \"))\n",
    "mins = int(input(\"Hora de início (minutos): \"))\n",
    "dura = int(input(\"Duração do evento (minutos): \"))\n",
    "\n",
    "# Escreva seu código aqui.\n",
    "tempo_total = hour * 60 + mins + dura # converte tudo para minutos\n",
    "# imprimir o resultado em horas e minutos\n",
    "hora_final = tempo_total // 60 % 24 # pega a parte inteira da divisão\n",
    "minuto_final = tempo_total % 60 # pega o resto da divisão\n",
    "# imprimir o resultado em horas e minutos\n",
    "print(hora_final, minuto_final, sep=\":\")\n",
    "\n"
   ]
  },
  {
   "cell_type": "code",
   "execution_count": null,
   "metadata": {},
   "outputs": [],
   "source": []
  }
 ],
 "metadata": {
  "kernelspec": {
   "display_name": ".venv",
   "language": "python",
   "name": "python3"
  },
  "language_info": {
   "codemirror_mode": {
    "name": "ipython",
    "version": 3
   },
   "file_extension": ".py",
   "mimetype": "text/x-python",
   "name": "python",
   "nbconvert_exporter": "python",
   "pygments_lexer": "ipython3",
   "version": "3.13.2"
  }
 },
 "nbformat": 4,
 "nbformat_minor": 2
}
