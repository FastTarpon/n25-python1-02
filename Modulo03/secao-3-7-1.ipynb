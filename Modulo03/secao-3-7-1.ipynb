{
 "cells": [
  {
   "cell_type": "markdown",
   "metadata": {},
   "source": [
    "# 3.7.1 - Operações avançadas em lista\n",
    "### list comprehension"
   ]
  },
  {
   "cell_type": "code",
   "execution_count": 1,
   "metadata": {},
   "outputs": [
    {
     "name": "stdout",
     "output_type": "stream",
     "text": [
      "[0, 1, 2, 3, 4, 5, 6, 7, 8, 9]\n"
     ]
    }
   ],
   "source": [
    "# montando uma lista simples\n",
    "lista = []\n",
    "for i in range(10):\n",
    "    lista.append(i)\n",
    "print(lista)"
   ]
  },
  {
   "cell_type": "code",
   "execution_count": 10,
   "metadata": {},
   "outputs": [
    {
     "name": "stdout",
     "output_type": "stream",
     "text": [
      "[0, 1, 2, 3, 4, 5, 6, 7, 8, 9]\n",
      "[1, 2, 3, 4, 5, 6, 7, 8, 9, 10]\n"
     ]
    }
   ],
   "source": [
    "lista = [i for i in range(10)]\n",
    "print(lista)\n",
    "lista = [i+1 for i in range(10)] # Lista de compreensão\n",
    "print(lista)\n"
   ]
  },
  {
   "cell_type": "code",
   "execution_count": null,
   "metadata": {},
   "outputs": [
    {
     "name": "stdout",
     "output_type": "stream",
     "text": [
      "[[1, 2, 3], [1, 2, 3], [1, 2, 3]]\n",
      "[[1, 2, 3], [4, 5, 6], [7, 8, 9]]\n"
     ]
    }
   ],
   "source": [
    "# matriz 3x3\n",
    "\n",
    "linha = []\n",
    "for l in range(3):\n",
    "    coluna=[]\n",
    "    for l in range(3):\n",
    "        coluna.append(l+1)\n",
    "    linha.append(coluna)\n",
    "print(linha)\n",
    "\n",
    "# Exemplo incremental\n",
    "\n",
    "linha = []\n",
    "for lin in range(3):\n",
    "    coluna=[]\n",
    "    for col in range(3):\n",
    "        coluna.append(col+1+lin*3)\n",
    "    linha.append(coluna)\n",
    "print(linha)"
   ]
  },
  {
   "cell_type": "code",
   "execution_count": 14,
   "metadata": {},
   "outputs": [
    {
     "name": "stdout",
     "output_type": "stream",
     "text": [
      "[[1, 2, 3], [1, 2, 3], [1, 2, 3]]\n"
     ]
    }
   ],
   "source": [
    "# usando list comprehension\n",
    "linha = [[l+1 for l in range(3)] for i in range(3)]\n",
    "print(linha)"
   ]
  },
  {
   "cell_type": "code",
   "execution_count": 16,
   "metadata": {},
   "outputs": [
    {
     "name": "stdout",
     "output_type": "stream",
     "text": [
      "[[1, 2, 3], [4, 5, 6], [7, 8, 9]]\n"
     ]
    }
   ],
   "source": [
    "# fazer a sequencia 123, 456, 789, ...\n",
    "\n",
    "linha = [[col+1+lin*3 for col in range(3)] for lin in range(3)]\n",
    "\n",
    "print(linha)"
   ]
  },
  {
   "cell_type": "code",
   "execution_count": null,
   "metadata": {},
   "outputs": [
    {
     "name": "stdout",
     "output_type": "stream",
     "text": [
      "A lista inicialmente esta assim: [1, 2, 3, 4, 5]\n",
      "Número inserido:  99\n",
      "Posição do meio:  3\n",
      " A lista após a substituição no meio pelo número digitado ficará assim: [1, 2, 99, 4, 5]\n",
      " A última posição é:  5\n",
      "A lista após remover a última posição:  [1, 2, 99, 4]\n",
      "O tamanho atual da lista é:  4\n"
     ]
    }
   ],
   "source": [
    "3.4.6 LAB Básico de listas\n",
    "\n",
    "lista = [1,2,3,4,5]\n",
    "print(\"A lista inicialmente esta assim:\",lista)\n",
    "num_meio = int(input(\"Digite o número do meio: \"))\n",
    "print(\"Número inserido: \",num_meio)\n",
    "posicao_meio = len(lista)// 2\n",
    "print(\"Posição do meio: \",posicao_meio+1)\n",
    "lista[posicao_meio] = num_meio\n",
    "print(\" A lista após a substituição no meio pelo número digitado ficará assim:\",lista)\n",
    "ultimo_pos = len(lista)\n",
    "lista.remove(ultimo_pos)\n",
    "print(\" A última posição é: \",ultimo_pos)\n",
    "print(\"A lista após remover a última posição: \",lista)\n",
    "print(\"O tamanho atual da lista é: \",len(lista))"
   ]
  }
 ],
 "metadata": {
  "kernelspec": {
   "display_name": ".venv",
   "language": "python",
   "name": "python3"
  },
  "language_info": {
   "codemirror_mode": {
    "name": "ipython",
    "version": 3
   },
   "file_extension": ".py",
   "mimetype": "text/x-python",
   "name": "python",
   "nbconvert_exporter": "python",
   "pygments_lexer": "ipython3",
   "version": "3.13.2"
  }
 },
 "nbformat": 4,
 "nbformat_minor": 2
}
