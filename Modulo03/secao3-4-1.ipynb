{
 "cells": [
  {
   "cell_type": "markdown",
   "metadata": {},
   "source": [
    "# Representando uma lista\n",
    "\n",
    "indice   0  1  2  3  4  5\n",
    "lista = [1, 2, 3, 4, 5, 6] \n",
    "print(lista[2]) imprimirá o 3"
   ]
  },
  {
   "cell_type": "code",
   "execution_count": 5,
   "metadata": {},
   "outputs": [
    {
     "name": "stdout",
     "output_type": "stream",
     "text": [
      "3\n",
      "[1, 2, 9, 4, 5, 6]\n",
      "6\n",
      "5\n"
     ]
    }
   ],
   "source": [
    "# Representando uma lista\n",
    "lista = [1, 2, 3, 4, 5, 6] \n",
    "print(lista[2]) \n",
    "lista[2] = 9 # Alterando o item da posição 2\n",
    "print(lista)\n",
    "print(len(lista)) # retorna o tamanho da lista\n",
    "print(len(\"lista\")) # retorna o tamanho da string lista\n"
   ]
  }
 ],
 "metadata": {
  "kernelspec": {
   "display_name": ".venv",
   "language": "python",
   "name": "python3"
  },
  "language_info": {
   "codemirror_mode": {
    "name": "ipython",
    "version": 3
   },
   "file_extension": ".py",
   "mimetype": "text/x-python",
   "name": "python",
   "nbconvert_exporter": "python",
   "pygments_lexer": "ipython3",
   "version": "3.13.2"
  }
 },
 "nbformat": 4,
 "nbformat_minor": 2
}
