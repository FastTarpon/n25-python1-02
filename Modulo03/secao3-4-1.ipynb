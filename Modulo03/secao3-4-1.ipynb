{
 "cells": [
  {
   "cell_type": "markdown",
   "metadata": {},
   "source": [
    "# Representando uma lista\n",
    "\n",
    "indices  0  1  2  3  4  5\n",
    "lista = [1, 2, 3, 4, 5, 6] \n",
    "print(lista[2]) imprimirá o 3"
   ]
  },
  {
   "cell_type": "code",
   "execution_count": null,
   "metadata": {},
   "outputs": [
    {
     "name": "stdout",
     "output_type": "stream",
     "text": [
      "3\n",
      "[1, 2, 9, 4, 5, 6]\n",
      "6\n",
      "[1, 2, 9, 4, 6]\n",
      "5\n"
     ]
    }
   ],
   "source": [
    "# Representando uma lista\n",
    "# indice 0  1  2  3  4  5\n",
    "lista = [1, 2, 3, 4, 5, 6] \n",
    "print(lista[2]) \n",
    "lista[2] = 9 # Alterando o item da posição 2\n",
    "print(lista)\n",
    "print(len(lista)) # retorna o tamanho da lista\n",
    "del lista[4] # removendo o índice 4 da lista\n",
    "print(lista)\n",
    "print(len(\"lista\")) # retorna o tamanho da string lista\n"
   ]
  },
  {
   "cell_type": "code",
   "execution_count": null,
   "metadata": {},
   "outputs": [
    {
     "name": "stdout",
     "output_type": "stream",
     "text": [
      "5\n",
      "4\n"
     ]
    }
   ],
   "source": [
    "# Acessando elementos com índice negativo\n",
    "# indice-5 -4 -3 -2 -1\n",
    "lista = [1, 2, 3, 4, 5] \n",
    "print(lista[-1])\n",
    "print(lista[-2])\n",
    "print(lista[~(len(lista)-1)]) # complemento, primeiro elemento\n",
    "print(lista[len(lista)-1]) # tamanho, último elemento, final da lista\n"
   ]
  },
  {
   "cell_type": "markdown",
   "metadata": {},
   "source": [
    "#### Funções x Métodos \n",
    "Exemplo de função: len(), min(), max(), print()\n",
    "Métodos é um pouco diferente...\n",
    "objeto.metodo()\n",
    "Exemplos de métodos:\n",
    "lista = [1,2,3,4,5]\n",
    "lista.append(6) <- Isso adiciona o número 6 para a lista final \n"
   ]
  },
  {
   "cell_type": "code",
   "execution_count": 9,
   "metadata": {},
   "outputs": [
    {
     "name": "stdout",
     "output_type": "stream",
     "text": [
      "['__add__', '__class__', '__class_getitem__', '__contains__', '__delattr__', '__delitem__', '__dir__', '__doc__', '__eq__', '__format__', '__ge__', '__getattribute__', '__getitem__', '__getstate__', '__gt__', '__hash__', '__iadd__', '__imul__', '__init__', '__init_subclass__', '__iter__', '__le__', '__len__', '__lt__', '__mul__', '__ne__', '__new__', '__reduce__', '__reduce_ex__', '__repr__', '__reversed__', '__rmul__', '__setattr__', '__setitem__', '__sizeof__', '__str__', '__subclasshook__', 'append', 'clear', 'copy', 'count', 'extend', 'index', 'insert', 'pop', 'remove', 'reverse', 'sort']\n",
      "[1, 2, 3, 9, 4, 5, 6]\n"
     ]
    }
   ],
   "source": [
    "lista = [1,2,3,4,5]\n",
    "lista.append(6) # adiciona o número 6 para a lista final\n",
    "print(dir(lista)) # dir mostra todas as propriedades da lista. \n",
    "# 'append', 'clear', 'copy', 'count', 'extend', 'index', 'insert', 'pop', 'remove', 'reverse', 'sort'\n",
    "# Com underscore são métodos privados, inacessíveis:\n",
    "# ['__add__', '__class__', '__class_getitem__', '__contains__', '__delattr__', '__delitem__', '__dir__', '__doc__', '__eq__', '__format__',\n",
    "#  '__ge__', '__getattribute__', '__getitem__', '__getstate__', '__gt__', '__hash__', '__iadd__', '__imul__', '__init__', '__init_subclass__',\n",
    "#  '__iter__', '__le__', '__len__', '__lt__', '__mul__', '__ne__', '__new__', '__reduce__', '__reduce_ex__', '__repr__', '__reversed__',\n",
    "#  '__rmul__', '__setattr__', '__setitem__', '__sizeof__', '__str__', '__subclasshook__'\n",
    "lista.insert(3, 9) # Insere um valor na posição informada, inserindo o valor 9 no índice 3\n",
    "print(lista)"
   ]
  },
  {
   "cell_type": "code",
   "execution_count": 12,
   "metadata": {},
   "outputs": [
    {
     "name": "stdout",
     "output_type": "stream",
     "text": [
      "Indice: 0 Valor: 1\n",
      "Indice: 1 Valor: 2\n",
      "Indice: 2 Valor: 3\n",
      "Indice: 3 Valor: 4\n",
      "Indice: 4 Valor: 5\n",
      "Fim do programa\n"
     ]
    }
   ],
   "source": [
    "# Usando for em listas pelo índice\n",
    "lista = [1,2,3,4,5]\n",
    "for i in range(len(lista)):\n",
    "    print(\"Indice:\",i,\"Valor:\",lista[i])\n",
    "print(\"Fim do programa\")"
   ]
  },
  {
   "cell_type": "code",
   "execution_count": 14,
   "metadata": {},
   "outputs": [
    {
     "name": "stdout",
     "output_type": "stream",
     "text": [
      "Valor: 9\n",
      "Valor: 2\n",
      "Valor: 3\n",
      "Valor: 4\n",
      "Valor: 5\n",
      "Fim do programa\n"
     ]
    }
   ],
   "source": [
    "# Usando for em listas pelo valor\n",
    "lista = [9,2,3,4,5]\n",
    "for el in lista: # Mostra o conteúdo da lista\n",
    "    print(\"Valor:\",el)\n",
    "print(\"Fim do programa\")"
   ]
  },
  {
   "cell_type": "code",
   "execution_count": null,
   "metadata": {},
   "outputs": [
    {
     "name": "stdout",
     "output_type": "stream",
     "text": [
      "[14, 13, 12, 11, 10, 9, 8, 7, 6, 5, 4, 3, 2, 1]\n"
     ]
    }
   ],
   "source": [
    "# Permuta de elementos, invertendo a lista\n",
    "lista = [1,2,3,4,5,6,7,8,9,10]\n",
    "for i in range(len(lista)//2): # reverse da lista\n",
    "    lista[i], lista[~i] = lista[~i], lista[i] \n",
    "print(lista)"
   ]
  },
  {
   "cell_type": "code",
   "execution_count": null,
   "metadata": {},
   "outputs": [
    {
     "name": "stdout",
     "output_type": "stream",
     "text": [
      "[1, 2.5, 'Olá', [1, 2, 3], [1, [2, 3]], True]\n",
      "[1, 2, 3]\n",
      "3\n",
      "3\n"
     ]
    }
   ],
   "source": [
    "#        0   1     2       3      4    5       6\n",
    "lista = [1, 2.5, \"Olá\", [1,2,3], [1, [2,3]], True]\n",
    "#        0   0     0     0 1 2    0   1      0\n",
    "#                                     0 1\n",
    "\n",
    "print(lista)\n",
    "print(lista[3])\n",
    "print(lista[3][2]) # \n",
    "print(lista[4][1][1])"
   ]
  }
 ],
 "metadata": {
  "kernelspec": {
   "display_name": ".venv",
   "language": "python",
   "name": "python3"
  },
  "language_info": {
   "codemirror_mode": {
    "name": "ipython",
    "version": 3
   },
   "file_extension": ".py",
   "mimetype": "text/x-python",
   "name": "python",
   "nbconvert_exporter": "python",
   "pygments_lexer": "ipython3",
   "version": "3.13.2"
  }
 },
 "nbformat": 4,
 "nbformat_minor": 2
}
