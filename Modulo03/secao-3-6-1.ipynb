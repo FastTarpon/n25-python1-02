{
 "cells": [
  {
   "cell_type": "markdown",
   "metadata": {},
   "source": [
    "# 3.6.1 Operações com lista\n",
    "### Fatiamento "
   ]
  },
  {
   "cell_type": "code",
   "execution_count": 1,
   "metadata": {},
   "outputs": [
    {
     "name": "stdout",
     "output_type": "stream",
     "text": [
      "20 15\n"
     ]
    }
   ],
   "source": [
    "# Operações com valores\n",
    "item1 = 10\n",
    "item2 = 20\n",
    "item1 = item2\n",
    "item2 = 15\n",
    "print(item1, item2)\n"
   ]
  },
  {
   "cell_type": "code",
   "execution_count": 4,
   "metadata": {},
   "outputs": [
    {
     "name": "stdout",
     "output_type": "stream",
     "text": [
      "[1, 2, 3, 4]\n",
      "2609356875456 2609356875456\n"
     ]
    }
   ],
   "source": [
    "# Operação com lista\n",
    "lista1 = [1,2,3]\n",
    "lista2 = lista1 # atribuição para o endereço de memória\n",
    "lista2.append(4) # manipulação de objeto\n",
    "print(lista1) \n",
    "print(id(lista1),id(lista2)) # endereço de memória, iguais. Ambos apontam para o mesmo endereço de memória, se um elemento for deletado, irá deletar\n",
    "                             # para ambos\n",
    "\n"
   ]
  },
  {
   "cell_type": "code",
   "execution_count": 8,
   "metadata": {},
   "outputs": [
    {
     "name": "stdout",
     "output_type": "stream",
     "text": [
      "[2, 3]\n",
      "[1, 2, 3]\n",
      "[2, 3, 4, 5]\n",
      "[1, 2, 3, 4, 5]\n",
      "[2, 3]\n"
     ]
    }
   ],
   "source": [
    "# Fatiamento\n",
    "lista = [1,2,3,4,5]\n",
    "                  # sempre o final - 1\n",
    "print(lista[1:3]) # Fatiamento indicando o inicio(1) e o fim(3)\n",
    "print(lista[:3])  # Omitiu o inicio, ele imprime o ultimo - 1\n",
    "print(lista[1:])  # Omitiu o último elemento\n",
    "print(lista[:])   # Omitindo todos os elementos\n",
    "print(lista[1:-2])# Indice negativo \n"
   ]
  },
  {
   "cell_type": "code",
   "execution_count": 11,
   "metadata": {},
   "outputs": [
    {
     "name": "stdout",
     "output_type": "stream",
     "text": [
      "[1, 2, 3, 4] 2609356874880\n",
      "[1, 2, 3, 4, 5] 2609357048768\n",
      "[1, 4]\n",
      "[1, 2, 3, 4, 5]\n"
     ]
    }
   ],
   "source": [
    "lista1 = [1,2,3,4]\n",
    "lista2 = lista1[:] # Fatiamento gera uma cópia da lista (Shadow list)\n",
    "lista2.append(5)\n",
    "print(lista1,id(lista)) # Endereços diferentes\n",
    "print(lista2,id(lista2)) # Endereços diferentes\n",
    "del lista1[1:3]\n",
    "print(lista1)\n",
    "print(lista2)\n"
   ]
  },
  {
   "cell_type": "markdown",
   "metadata": {},
   "source": [
    "### 3.6.4 Os operadores in e not in"
   ]
  },
  {
   "cell_type": "code",
   "execution_count": null,
   "metadata": {},
   "outputs": [
    {
     "name": "stdout",
     "output_type": "stream",
     "text": [
      "True\n",
      "False\n",
      "False\n"
     ]
    }
   ],
   "source": [
    "lista = [7,8,3,2,5]\n",
    "print(5 in lista) # 5 esta na lista? True\n",
    "print(5 not in lista) # 5 não esta na lista? False\n",
    "print(9 in lista) # 9 esta na lista? False"
   ]
  },
  {
   "cell_type": "code",
   "execution_count": 14,
   "metadata": {},
   "outputs": [
    {
     "name": "stdout",
     "output_type": "stream",
     "text": [
      "cdefghijklmnopqrstuvwx\n"
     ]
    }
   ],
   "source": [
    "# Fatiamento em string\n",
    "texto = \"abcdefghijklmnopqrstuvwxyz\"\n",
    "print(texto[2:-2])\n"
   ]
  },
  {
   "cell_type": "markdown",
   "metadata": {},
   "source": [
    "# 3.6.6   LAB   Operações com listas "
   ]
  },
  {
   "cell_type": "code",
   "execution_count": 25,
   "metadata": {},
   "outputs": [
    {
     "name": "stdout",
     "output_type": "stream",
     "text": [
      "A lista com os elementos exclusivos aqui\n",
      "[1, 2, 4, 6, 9]\n"
     ]
    }
   ],
   "source": [
    "my_list = [1, 2, 4, 4, 1, 4, 2, 6, 2, 9]\n",
    "apoio=[]\n",
    "for el in my_list:\n",
    "    if el not in apoio:\n",
    "        apoio.append(el)\n",
    "my_list = apoio\n",
    "print(\"A lista com os elementos exclusivos aqui\")\n",
    "print(my_list)\n"
   ]
  }
 ],
 "metadata": {
  "kernelspec": {
   "display_name": ".venv",
   "language": "python",
   "name": "python3"
  },
  "language_info": {
   "codemirror_mode": {
    "name": "ipython",
    "version": 3
   },
   "file_extension": ".py",
   "mimetype": "text/x-python",
   "name": "python",
   "nbconvert_exporter": "python",
   "pygments_lexer": "ipython3",
   "version": "3.13.2"
  }
 },
 "nbformat": 4,
 "nbformat_minor": 2
}
