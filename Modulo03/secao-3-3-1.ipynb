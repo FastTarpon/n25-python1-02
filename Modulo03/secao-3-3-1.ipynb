{
 "cells": [
  {
   "cell_type": "markdown",
   "metadata": {},
   "source": [
    "# 3.3 Lógica e Operadores bia-a-bit\n",
    "### Operadores lógicos and, or, e not\n",
    "\n",
    "| A | B | A and B | A or B | not A |\n",
    "| - | - |:-:|:-:|:-:|\n",
    "| True | True | True | True | False |\n",
    "| True | False | False | True | False |\n",
    "| False | True | False | True | True |\n",
    "| False | False | False | False | True |"
   ]
  },
  {
   "cell_type": "code",
   "execution_count": 7,
   "metadata": {},
   "outputs": [
    {
     "name": "stdout",
     "output_type": "stream",
     "text": [
      "Pode dirigir sem restrições, desde com carta.\n",
      "Idade inválida!\n",
      "Idade inválida!\n",
      "Idade inválida!\n",
      "Idade inválida!\n",
      "Idade inválida!\n",
      "Idade inválida!\n"
     ]
    },
    {
     "ename": "ValueError",
     "evalue": "invalid literal for int() with base 10: ''",
     "output_type": "error",
     "traceback": [
      "\u001b[31m---------------------------------------------------------------------------\u001b[39m",
      "\u001b[31mValueError\u001b[39m                                Traceback (most recent call last)",
      "\u001b[36mCell\u001b[39m\u001b[36m \u001b[39m\u001b[32mIn[7]\u001b[39m\u001b[32m, line 8\u001b[39m\n\u001b[32m      6\u001b[39m idade = \u001b[32m10\u001b[39m\n\u001b[32m      7\u001b[39m \u001b[38;5;28;01mwhile\u001b[39;00m idade<\u001b[32m18\u001b[39m \u001b[38;5;129;01mor\u001b[39;00m idade>\u001b[32m60\u001b[39m:\n\u001b[32m----> \u001b[39m\u001b[32m8\u001b[39m     idade = \u001b[38;5;28;43mint\u001b[39;49m\u001b[43m(\u001b[49m\u001b[38;5;28;43minput\u001b[39;49m\u001b[43m(\u001b[49m\u001b[33;43m\"\u001b[39;49m\u001b[33;43mDigite uma idade entre 18 e 60: \u001b[39;49m\u001b[33;43m\"\u001b[39;49m\u001b[43m)\u001b[49m\u001b[43m)\u001b[49m\n\u001b[32m      9\u001b[39m     \u001b[38;5;28;01mif\u001b[39;00m idade<\u001b[32m18\u001b[39m \u001b[38;5;129;01mor\u001b[39;00m idade>\u001b[32m60\u001b[39m: \u001b[38;5;28mprint\u001b[39m(\u001b[33m\"\u001b[39m\u001b[33mIdade inválida!\u001b[39m\u001b[33m\"\u001b[39m)\n\u001b[32m     10\u001b[39m     \u001b[38;5;66;03m# if not(idade>=18 and idade<=60): print(\"Idade inválida!\")\u001b[39;00m\n\u001b[32m     11\u001b[39m \u001b[38;5;66;03m# Só vai sair do laço com uma idade entre 18 e 60\u001b[39;00m\n",
      "\u001b[31mValueError\u001b[39m: invalid literal for int() with base 10: ''"
     ]
    }
   ],
   "source": [
    "# Corrigir esse código\n",
    "\n",
    "idade = 19\n",
    "if idade>=18 and idade<=60:\n",
    "    print(\"Pode dirigir sem restrições, desde com carta.\")\n",
    "idade = 10\n",
    "while idade<18 or idade>60:\n",
    "    idade = int(input(\"Digite uma idade entre 18 e 60: \"))\n",
    "    if idade<18 or idade>60: print(\"Idade inválida!\")\n",
    "    # if not(idade>=18 and idade<=60): print(\"Idade inválida!\")\n",
    "# Só vai sair do laço com uma idade entre 18 e 60"
   ]
  },
  {
   "cell_type": "code",
   "execution_count": 3,
   "metadata": {},
   "outputs": [
    {
     "name": "stdout",
     "output_type": "stream",
     "text": [
      "Idade inválida!\n"
     ]
    }
   ],
   "source": [
    "idade = int(input(\"Digite uma idade maior que zero: \"))\n",
    "if not idade:\n",
    "    print(\"Idade inválida!\")\n",
    "    "
   ]
  },
  {
   "cell_type": "markdown",
   "metadata": {},
   "source": [
    "### Operadores bit-a-bit\n",
    "#### Operador de conjunção ( & ) ou  and bit-a-bit\n",
    "\n",
    "2 & 3 = 2\n",
    "\n",
    "Em binário:\n",
    "2 10 &\n",
    "3 11\n",
    "----\n",
    "2 10"
   ]
  },
  {
   "cell_type": "code",
   "execution_count": 11,
   "metadata": {},
   "outputs": [
    {
     "name": "stdout",
     "output_type": "stream",
     "text": [
      "5 0101\n",
      "7 0101 &\n",
      "-------\n",
      "5 0101\n",
      "0b101\n"
     ]
    }
   ],
   "source": [
    "a = 5\n",
    "b = 7\n",
    "print(a,f\"{a:04b}\") #String formatada dentro do python. Mostra o número em decimal e o binário ao lado\n",
    "print(b,f\"{a:04b}\",\"&\")\n",
    "print(\"-\"*7)\n",
    "print(a&b,f\"{(a&b):04b}\") # a conjunção com b\n",
    "print(bin(a))"
   ]
  },
  {
   "cell_type": "markdown",
   "metadata": {},
   "source": [
    "#### Operador de disjunção ( | ) ou or bit-a-bit\n",
    "5 0101\n",
    "7 0111\n",
    "------\n",
    "7 0111"
   ]
  },
  {
   "cell_type": "code",
   "execution_count": null,
   "metadata": {},
   "outputs": [
    {
     "name": "stdout",
     "output_type": "stream",
     "text": [
      "5 0101\n",
      "7 0101 &\n",
      "-------\n",
      "7 0111\n",
      "0b101\n"
     ]
    }
   ],
   "source": [
    "a = 5\n",
    "b = 7\n",
    "print(a,f\"{a:04b}\") #String formatada dentro do python. Mostra o número em decimal e o binário ao lado\n",
    "print(b,f\"{a:04b}\",\"&\")\n",
    "print(\"-\"*7)\n",
    "print(a|b,f\"{(a|b):04b}\") # a disjunção com b. \n",
    "print(bin(a))"
   ]
  },
  {
   "cell_type": "markdown",
   "metadata": {},
   "source": [
    "#### Operador xor (^) ou ou exclusivo bit-a-bit -\n",
    "#### Onde existem dois iguais, vira 0, diferentes vira 1. Ligado vira desligado e desligado vira ligado, inverte\n",
    "\n",
    "5 0101\n",
    "7 0111\n",
    "------\n",
    "2 0010"
   ]
  },
  {
   "cell_type": "code",
   "execution_count": 13,
   "metadata": {},
   "outputs": [
    {
     "name": "stdout",
     "output_type": "stream",
     "text": [
      "5 0101\n",
      "7 0101 &\n",
      "-------\n",
      "2 0111\n",
      "0b101\n"
     ]
    }
   ],
   "source": [
    "a = 5\n",
    "b = 7\n",
    "print(a,f\"{a:04b}\") #String formatada dentro do python. Mostra o número em decimal e o binário ao lado\n",
    "print(b,f\"{a:04b}\",\"&\")\n",
    "print(\"-\"*7)\n",
    "print(a^b,f\"{(a|b):04b}\") # a xor com b. \n",
    "print(bin(a))"
   ]
  },
  {
   "cell_type": "markdown",
   "metadata": {},
   "source": [
    "#### Complemento ( ~ )\n",
    "#### Significa um número a mais, negativo. Aumenta em 1 e inverte o sinal\n",
    "~5 = -6"
   ]
  },
  {
   "cell_type": "code",
   "execution_count": 14,
   "metadata": {},
   "outputs": [
    {
     "name": "stdout",
     "output_type": "stream",
     "text": [
      "-6\n",
      "5\n"
     ]
    }
   ],
   "source": [
    "print(~5)\n",
    "print(~-6)"
   ]
  },
  {
   "cell_type": "markdown",
   "metadata": {},
   "source": [
    "#### Deslocamento de bit para esquerda ( << )\n",
    "1 << 2 resulta em 4 (100)"
   ]
  },
  {
   "cell_type": "code",
   "execution_count": 19,
   "metadata": {},
   "outputs": [
    {
     "name": "stdout",
     "output_type": "stream",
     "text": [
      "4 0100\n"
     ]
    }
   ],
   "source": [
    "print(1 << 2, f\"{(1<<2):04b}\") # Deslocou o 1 duas casas para a esquerda"
   ]
  },
  {
   "cell_type": "markdown",
   "metadata": {},
   "source": [
    "#### Deslocamento de bit para a direita ( >> )\n",
    "5 >> 2 resulta em 1"
   ]
  },
  {
   "cell_type": "code",
   "execution_count": 20,
   "metadata": {},
   "outputs": [
    {
     "name": "stdout",
     "output_type": "stream",
     "text": [
      "1 0001\n"
     ]
    }
   ],
   "source": [
    "print(5 >> 2, f\"{(5 >> 2):04b}\") # Bits deslocados para a direita sao perdidos, eliminados"
   ]
  },
  {
   "cell_type": "markdown",
   "metadata": {},
   "source": [
    "### Atualizando a tabela de precedência de operadores\n",
    "| Sequencia | Operador | Descrição |\n",
    "|:-:|:-:| - |\n",
    "| 1 | ** | Exponenciação | \n",
    "| 2 | -, +, ~ | Operadores unários e complemento |\n",
    "| 3 | *,/,//,% | Multiplicação, Divisões e resto |\n",
    "| 4 | +,- | Soma e subtração |\n",
    "| 5 | <<, >> | Deslocamento de bits |\n",
    "| 6 | & | Conjunção |\n",
    "| 7 | \\| | Disjunção |\n",
    "| 8 | <, <=, >, >=, !=,== | Operadores Relacionais |\n",
    "| 9 | not | Operador de negação |\n",
    "| 10 | and | Operador and |\n",
    "| 11 | or | Operador or |\n",
    "| 12 | +=,-=,*=,... | Operadores atalho |"
   ]
  }
 ],
 "metadata": {
  "kernelspec": {
   "display_name": ".venv",
   "language": "python",
   "name": "python3"
  },
  "language_info": {
   "codemirror_mode": {
    "name": "ipython",
    "version": 3
   },
   "file_extension": ".py",
   "mimetype": "text/x-python",
   "name": "python",
   "nbconvert_exporter": "python",
   "pygments_lexer": "ipython3",
   "version": "3.13.2"
  }
 },
 "nbformat": 4,
 "nbformat_minor": 2
}
