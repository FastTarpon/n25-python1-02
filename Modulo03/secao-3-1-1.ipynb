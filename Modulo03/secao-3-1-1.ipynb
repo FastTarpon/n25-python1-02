{
 "cells": [
  {
   "cell_type": "markdown",
   "metadata": {},
   "source": [
    "# Tomada de decisão\n",
    "## Operação relacionais (Devolve a resposta: Verdadeiro(1) ou Falso(0))\n",
    "### Operador de igualdade ( == ) (= sinal de Atribuição )"
   ]
  },
  {
   "cell_type": "code",
   "execution_count": 9,
   "metadata": {},
   "outputs": [
    {
     "name": "stdout",
     "output_type": "stream",
     "text": [
      "False\n",
      "True\n",
      "True\n",
      "True\n"
     ]
    }
   ],
   "source": [
    "print( 1 == 2)\n",
    "print( 1 == 1)\n",
    "print( 1 == 1.0)\n",
    "print( 2 == 0b10 ) # binary 2"
   ]
  },
  {
   "cell_type": "markdown",
   "metadata": {},
   "source": [
    "### Operador de desigualdade ( != )"
   ]
  },
  {
   "cell_type": "code",
   "execution_count": 10,
   "metadata": {},
   "outputs": [
    {
     "name": "stdout",
     "output_type": "stream",
     "text": [
      "True\n",
      "False\n",
      "False\n",
      "False\n"
     ]
    }
   ],
   "source": [
    "print( 1 != 2)\n",
    "print( 1 != 1)\n",
    "print( 1 != 1.0)\n",
    "print( 2 != 0b10) # binary 2"
   ]
  },
  {
   "cell_type": "markdown",
   "metadata": {},
   "source": [
    "### Operador maior que ( > ) e maior igual a ( >= )"
   ]
  },
  {
   "cell_type": "code",
   "execution_count": 11,
   "metadata": {},
   "outputs": [
    {
     "name": "stdout",
     "output_type": "stream",
     "text": [
      "False\n",
      "True\n",
      "True\n",
      "True\n"
     ]
    }
   ],
   "source": [
    "print( 1 > 2)\n",
    "print( 2 > 1)\n",
    "print( 2 >= 1)\n",
    "print( 2 >= 0b10 ) # binary 2"
   ]
  },
  {
   "cell_type": "markdown",
   "metadata": {},
   "source": [
    "### Operador menor que ( < ) e menor igual a ( <= )\n",
    "\n"
   ]
  },
  {
   "cell_type": "code",
   "execution_count": 12,
   "metadata": {},
   "outputs": [
    {
     "name": "stdout",
     "output_type": "stream",
     "text": [
      "True\n",
      "False\n",
      "False\n",
      "True\n"
     ]
    }
   ],
   "source": [
    "print( 1 < 2)\n",
    "print( 2 < 1)\n",
    "print( 2 <= 1)\n",
    "print( 2 <= 0b10 ) # binary 2"
   ]
  },
  {
   "cell_type": "markdown",
   "metadata": {},
   "source": [
    "#### Atualizando a lista de prioridades de operadores\n",
    "| Seq | Operador | Descrição |\n",
    "| - | :-: | - |\n",
    "| 1 | ** | Exponenciação |\n",
    "| 2 | +,- | Unários Sinal |\n",
    "| 3 | *,/,//,% | Multiplicação, divisões e resto |\n",
    "| 4 | +,- | Soma e subtração |\n",
    "| 5 | >, >=, <, <= | Maior, maior igual, menor, menor igual |\n",
    "| 6 | ==, != | Igualdade e diferença |"
   ]
  },
  {
   "cell_type": "markdown",
   "metadata": {},
   "source": [
    "### Operador if ( Se ) encadiamento e endentação\n",
    "sintaxe:\n",
    "if condicao_verdade:\n",
    "    comando_a_ser_executado1()\n",
    "    comando_a_ser_executado2()\n",
    "    if comando2: \n",
    "        comando_03()\n"
   ]
  },
  {
   "cell_type": "code",
   "execution_count": 14,
   "metadata": {},
   "outputs": [
    {
     "name": "stdout",
     "output_type": "stream",
     "text": [
      "fim do programa\n"
     ]
    }
   ],
   "source": [
    "idade = int(input(\"Digite sua idade: \"))\n",
    "if idade >= 18: ## É necessário colocar : para endentação no VS Code\n",
    "    print(\"Você é maior de idade\")\n",
    "    print(\"Você pode dirigir, se habilitado!\")\n",
    "print(\"fim do programa\")"
   ]
  },
  {
   "cell_type": "markdown",
   "metadata": {},
   "source": [
    "### Instrução else"
   ]
  },
  {
   "cell_type": "code",
   "execution_count": 15,
   "metadata": {},
   "outputs": [
    {
     "name": "stdout",
     "output_type": "stream",
     "text": [
      "Você é menor de idade\n",
      "Você não pode dirigir!\n",
      "fim do programa\n"
     ]
    }
   ],
   "source": [
    "idade = int(input(\"Digite sua idade: \"))\n",
    "if idade >= 18: ## É necessário colocar : para endentação no VS Code\n",
    "    print(\"Você é maior de idade\")\n",
    "    print(\"Você pode dirigir, se habilitado!\")\n",
    "else: # deve estar alinhado com o if no VS code\n",
    "    print(\"Você é menor de idade\")\n",
    "    print(\"Você não pode dirigir!\")\n",
    "print(\"fim do programa\")"
   ]
  },
  {
   "cell_type": "markdown",
   "metadata": {},
   "source": [
    "### If encadeado"
   ]
  },
  {
   "cell_type": "code",
   "execution_count": 19,
   "metadata": {},
   "outputs": [
    {
     "name": "stdout",
     "output_type": "stream",
     "text": [
      "Você é maior de idade\n",
      "Você pode dirigir, se habilitado!\n",
      "Você deve fazer exames médicos a cada 2 anos\n",
      "fim do programa\n"
     ]
    }
   ],
   "source": [
    "idade = int(input(\"Digite sua idade: \"))\n",
    "if idade >= 18: ## É necessário colocar : para endentação no VS Code\n",
    "    print(\"Você é maior de idade\")\n",
    "    print(\"Você pode dirigir, se habilitado!\")\n",
    "    if idade >= 70:\n",
    "        print(\"Você deve fazer exames médicos anuais\")\n",
    "    else:\n",
    "        if idade >= 65:\n",
    "            print(\"Você deve fazer exames médicos a cada 2 anos\")\n",
    "else: # deve estar alinhado com o if no VS code\n",
    "    print(\"Você é menor de idade\")\n",
    "    print(\"Você não pode dirigir!\")\n",
    "print(\"fim do programa\")"
   ]
  },
  {
   "cell_type": "markdown",
   "metadata": {},
   "source": [
    "### instrução elif (mistura de Else com If)"
   ]
  },
  {
   "cell_type": "code",
   "execution_count": 20,
   "metadata": {},
   "outputs": [
    {
     "name": "stdout",
     "output_type": "stream",
     "text": [
      "Você é menor de idade\n"
     ]
    }
   ],
   "source": [
    "idade = int(input(\"Digite sua idade: \"))\n",
    "if idade >= 70: #atendeu, entra nesse if\n",
    "    print(\"Você é maior de idade\")\n",
    "    print(\"Você pode dirigir, se habilitado!\")\n",
    "    print(\"Voce deve fazer exames médicos anuais\")\n",
    "elif idade >= 65: # atendeu, entra nesse if\n",
    "    print(\"Você é maior de idade\")\n",
    "    print(\"Você pode dirigir, se habilitado!\")\n",
    "    print(\"Voce deve fazer exames médicos a cada 2 anos\")\n",
    "    \n",
    "elif idade >= 18: # É necessário colocar : para endentação no VS Code. Atendeu entra nesse if\n",
    "    print(\"Você é maior de idade\")\n",
    "    print(\"Você pode dirigir, se habilitado!\")\n",
    "else: # não atendeu nenhum if, entra nessa condição e sai\n",
    "    print(\"Você é menor de idade\") "
   ]
  },
  {
   "cell_type": "code",
   "execution_count": 21,
   "metadata": {},
   "outputs": [
    {
     "name": "stdout",
     "output_type": "stream",
     "text": [
      "O maior número é: 3\n"
     ]
    }
   ],
   "source": [
    "## Obtendo o maior número entre dois números\n",
    "num1 = int(input(\"Digite o primeiro número: \"))\n",
    "num2 = int(input(\"Digite o segundo número\"))\n",
    "maior = num1\n",
    "if num2 > maior:\n",
    "    maior = num2\n",
    "print(\"O maior número é:\", maior)\n",
    "        "
   ]
  },
  {
   "cell_type": "code",
   "execution_count": 22,
   "metadata": {},
   "outputs": [
    {
     "name": "stdout",
     "output_type": "stream",
     "text": [
      "O maior número é: 3\n"
     ]
    }
   ],
   "source": [
    "## Obtendo o maior número entre três números\n",
    "num1 = int(input(\"Digite o primeiro número: \"))\n",
    "num2 = int(input(\"Digite o segundo número\"))\n",
    "num3 = int(input(\"Digite o terceiro número\"))\n",
    "maior = num1\n",
    "if num2 > maior:\n",
    "    maior = num2\n",
    "if num3 > maior:\n",
    "    maior = num3\n",
    "print(\"O maior número é:\", maior)"
   ]
  },
  {
   "cell_type": "code",
   "execution_count": 1,
   "metadata": {},
   "outputs": [
    {
     "name": "stdout",
     "output_type": "stream",
     "text": [
      "renato é maior ou igual a  Renato\n"
     ]
    }
   ],
   "source": [
    "# Uso do If com strings\n",
    "# Teste com Ana(menor) e ana(maior) tabela ASCII, comparação feita caracter a caracter\n",
    "# Comparar \"10\" e \"8\", nesse caso \"8\" é maior que \"10\" por comparar string com string. Não esta convertido para valores numéricos\n",
    "# Se fosse \"08\" comparado com \"10\", o \"10\" seria maior(String)\n",
    "nome = input(\"Digite seu nome: \")\n",
    "nome2 = input(\"Digite outro nome: \")\n",
    "if nome > nome2:\n",
    "    print(nome, \"é maior que\", nome2)\n",
    "else:\n",
    "    print(nome2, \"é maior ou igual a \", nome)\n"
   ]
  },
  {
   "cell_type": "code",
   "execution_count": null,
   "metadata": {},
   "outputs": [
    {
     "name": "stdout",
     "output_type": "stream",
     "text": [
      "Spathiphyllum! Not teste!\n"
     ]
    }
   ],
   "source": [
    "# Lab 3.1.10\n",
    "\n",
    "entrada = input(\"Digite o nome da planta: \")\n",
    "if entrada == \"Spathiphyllum\":\n",
    "    print(\"Yes - Spathiphyllum is the best plant ever!\")\n",
    "elif entrada == \"spathiphyllum\":\n",
    "    print(\"No, I want a big Spathiphyllum!\")\n",
    "else:\n",
    "    print(\"Spathiphyllum! Not \" +entrada+ \"!\")"
   ]
  },
  {
   "cell_type": "code",
   "execution_count": 38,
   "metadata": {},
   "outputs": [
    {
     "name": "stdout",
     "output_type": "stream",
     "text": [
      "A taxa é: 0 thalers\n"
     ]
    }
   ],
   "source": [
    "# Lab 3.1.11\n",
    "\n",
    "# se a renda do cidadão não era superior a 85.528 talões, o imposto era igual a 18% da renda, menos 556\n",
    "# taller e 2 centavos (isso era o que eles chamavam de isenção de imposto)\n",
    "# se a receita fosse superior a esse valor, o imposto seria igual a 14.839 talões e 2 centavos, mais 32% do excedente em mais de 85.528 taller.\n",
    "\n",
    "renda = float(input(\"Digite a renda: \"))\n",
    "\n",
    "if renda < 85528:\n",
    "    imposto = renda * 0.18 - 556.02\n",
    "    \n",
    "else: \n",
    "    imposto = 14839.02 + (renda - 85529) * 0.32\n",
    "\n",
    "if imposto < 0:\n",
    "    imposto = 0\n",
    "\n",
    "imposto = round(imposto, 0)\n",
    "print(\"A taxa é:\", imposto, \"thalers\")"
   ]
  },
  {
   "cell_type": "code",
   "execution_count": 46,
   "metadata": {},
   "outputs": [
    {
     "name": "stdout",
     "output_type": "stream",
     "text": [
      "Não esta dentro do período do calendário gregoriano\n"
     ]
    }
   ],
   "source": [
    "# Lab 3.1.12 \n",
    "\n",
    "#para determinar o tipo de ano:\n",
    "\n",
    "# se o número do ano não é divisível por quatro, é um ano comum;\n",
    "# caso contrário, se o número do ano não for divisível por 100, será um ano bissexto;\n",
    "# caso contrário, se o número do ano não for divisível por 400, é um ano comum ;\n",
    "# caso contrário, é um ano bissexto .\n",
    "\n",
    "ano = int(input(\"Digite o ano: \"))\n",
    "if ano < 1582:\n",
    "      print(\"Não esta dentro do período do calendário gregoriano\")\n",
    "else:      \n",
    "   if ano % 4 != 0:\n",
    "      print(\"É um ano comum\")\n",
    "   elif ano % 100 != 0:\n",
    "      print(\"É um ano bissexto\")\n",
    "   elif ano % 400 != 0:\n",
    "      print(\"É um ano comum\")\n",
    "   else:\n",
    "      print(\"É um ano bissexto\")"
   ]
  },
  {
   "cell_type": "code",
   "execution_count": 47,
   "metadata": {},
   "outputs": [],
   "source": [
    "# Múltipla atribuição...\n",
    "a, b, c = 1, 2 , 3\n",
    "# vaores de a = 5, b =6, faça uma permuta de com as varoáveis\n",
    "a = 5\n",
    "b = 6\n",
    "# Efetuando a troca\n",
    "apoio = a \n",
    "a = b\n",
    "b = apoio\n",
    "# efetuando a permuta no python\n",
    "a, b = b, a"
   ]
  }
 ],
 "metadata": {
  "kernelspec": {
   "display_name": ".venv",
   "language": "python",
   "name": "python3"
  },
  "language_info": {
   "codemirror_mode": {
    "name": "ipython",
    "version": 3
   },
   "file_extension": ".py",
   "mimetype": "text/x-python",
   "name": "python",
   "nbconvert_exporter": "python",
   "pygments_lexer": "ipython3",
   "version": "3.13.2"
  }
 },
 "nbformat": 4,
 "nbformat_minor": 2
}
