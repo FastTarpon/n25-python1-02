{
 "cells": [
  {
   "cell_type": "markdown",
   "metadata": {},
   "source": [
    "# Tomada de decisão\n",
    "## Operação relacionais (Devolve a resposta: Verdadeiro(1) ou Falso(0))\n",
    "### Operador de igualdade ( == ) (= sinal de Atribuição )"
   ]
  },
  {
   "cell_type": "code",
   "execution_count": 9,
   "metadata": {},
   "outputs": [
    {
     "name": "stdout",
     "output_type": "stream",
     "text": [
      "False\n",
      "True\n",
      "True\n",
      "True\n"
     ]
    }
   ],
   "source": [
    "print( 1 == 2)\n",
    "print( 1 == 1)\n",
    "print( 1 == 1.0)\n",
    "print( 2 == 0b10 ) # binary 2"
   ]
  },
  {
   "cell_type": "markdown",
   "metadata": {},
   "source": [
    "### Operador de desigualdade ( != )"
   ]
  },
  {
   "cell_type": "code",
   "execution_count": 10,
   "metadata": {},
   "outputs": [
    {
     "name": "stdout",
     "output_type": "stream",
     "text": [
      "True\n",
      "False\n",
      "False\n",
      "False\n"
     ]
    }
   ],
   "source": [
    "print( 1 != 2)\n",
    "print( 1 != 1)\n",
    "print( 1 != 1.0)\n",
    "print( 2 != 0b10) # binary 2"
   ]
  },
  {
   "cell_type": "markdown",
   "metadata": {},
   "source": [
    "### Operador maior que ( > ) e maior igual a ( >= )"
   ]
  },
  {
   "cell_type": "code",
   "execution_count": 11,
   "metadata": {},
   "outputs": [
    {
     "name": "stdout",
     "output_type": "stream",
     "text": [
      "False\n",
      "True\n",
      "True\n",
      "True\n"
     ]
    }
   ],
   "source": [
    "print( 1 > 2)\n",
    "print( 2 > 1)\n",
    "print( 2 >= 1)\n",
    "print( 2 >= 0b10 ) # binary 2"
   ]
  },
  {
   "cell_type": "markdown",
   "metadata": {},
   "source": [
    "### Operador menor que ( < ) e menor igual a ( <= )\n",
    "\n"
   ]
  },
  {
   "cell_type": "code",
   "execution_count": 12,
   "metadata": {},
   "outputs": [
    {
     "name": "stdout",
     "output_type": "stream",
     "text": [
      "True\n",
      "False\n",
      "False\n",
      "True\n"
     ]
    }
   ],
   "source": [
    "print( 1 < 2)\n",
    "print( 2 < 1)\n",
    "print( 2 <= 1)\n",
    "print( 2 <= 0b10 ) # binary 2"
   ]
  },
  {
   "cell_type": "markdown",
   "metadata": {},
   "source": [
    "#### Atualizando a lista de prioridades de operadores\n",
    "| Seq | Operador | Descrição |\n",
    "| - | :-: | - |\n",
    "| 1 | ** | Exponenciação |\n",
    "| 2 | +,- | Unários Sinal |\n",
    "| 3 | *,/,//,% | Multiplicação, divisões e resto |\n",
    "| 4 | +,- | Soma e subtração |\n",
    "| 5 | >, >=, <, <= | Maior, maior igual, menor, menor igual |\n",
    "| 6 | ==, != | Igualdade e diferença |"
   ]
  },
  {
   "cell_type": "markdown",
   "metadata": {},
   "source": [
    "### Operador if ( Se ) encadiamento e endentação\n",
    "sintaxe:\n",
    "if condicao_verdade:\n",
    "    comando_a_ser_executado1()\n",
    "    comando_a_ser_executado2()\n",
    "    if comando2: \n",
    "        comando_03()\n"
   ]
  },
  {
   "cell_type": "code",
   "execution_count": 14,
   "metadata": {},
   "outputs": [
    {
     "name": "stdout",
     "output_type": "stream",
     "text": [
      "fim do programa\n"
     ]
    }
   ],
   "source": [
    "idade = int(input(\"Digite sua idade: \"))\n",
    "if idade >= 18: ## É necessário colocar : para endentação no VS Code\n",
    "    print(\"Você é maior de idade\")\n",
    "    print(\"Você pode dirigir, se habilitado!\")\n",
    "print(\"fim do programa\")"
   ]
  },
  {
   "cell_type": "markdown",
   "metadata": {},
   "source": [
    "### Instrução else"
   ]
  },
  {
   "cell_type": "code",
   "execution_count": 15,
   "metadata": {},
   "outputs": [
    {
     "name": "stdout",
     "output_type": "stream",
     "text": [
      "Você é menor de idade\n",
      "Você não pode dirigir!\n",
      "fim do programa\n"
     ]
    }
   ],
   "source": [
    "idade = int(input(\"Digite sua idade: \"))\n",
    "if idade >= 18: ## É necessário colocar : para endentação no VS Code\n",
    "    print(\"Você é maior de idade\")\n",
    "    print(\"Você pode dirigir, se habilitado!\")\n",
    "else: # deve estar alinhado com o if no VS code\n",
    "    print(\"Você é menor de idade\")\n",
    "    print(\"Você não pode dirigir!\")\n",
    "print(\"fim do programa\")"
   ]
  },
  {
   "cell_type": "markdown",
   "metadata": {},
   "source": [
    "### If encadeado"
   ]
  },
  {
   "cell_type": "code",
   "execution_count": 19,
   "metadata": {},
   "outputs": [
    {
     "name": "stdout",
     "output_type": "stream",
     "text": [
      "Você é maior de idade\n",
      "Você pode dirigir, se habilitado!\n",
      "Você deve fazer exames médicos a cada 2 anos\n",
      "fim do programa\n"
     ]
    }
   ],
   "source": [
    "idade = int(input(\"Digite sua idade: \"))\n",
    "if idade >= 18: ## É necessário colocar : para endentação no VS Code\n",
    "    print(\"Você é maior de idade\")\n",
    "    print(\"Você pode dirigir, se habilitado!\")\n",
    "    if idade >= 70:\n",
    "        print(\"Você deve fazer exames médicos anuais\")\n",
    "    else:\n",
    "        if idade >= 65:\n",
    "            print(\"Você deve fazer exames médicos a cada 2 anos\")\n",
    "else: # deve estar alinhado com o if no VS code\n",
    "    print(\"Você é menor de idade\")\n",
    "    print(\"Você não pode dirigir!\")\n",
    "print(\"fim do programa\")"
   ]
  },
  {
   "cell_type": "markdown",
   "metadata": {},
   "source": [
    "### instrução elif (mistura de Else com If)"
   ]
  },
  {
   "cell_type": "code",
   "execution_count": 20,
   "metadata": {},
   "outputs": [
    {
     "name": "stdout",
     "output_type": "stream",
     "text": [
      "Você é menor de idade\n"
     ]
    }
   ],
   "source": [
    "idade = int(input(\"Digite sua idade: \"))\n",
    "if idade >= 70: #atendeu, entra nesse if\n",
    "    print(\"Você é maior de idade\")\n",
    "    print(\"Você pode dirigir, se habilitado!\")\n",
    "    print(\"Voce deve fazer exames médicos anuais\")\n",
    "elif idade >= 65: # atendeu, entra nesse if\n",
    "    print(\"Você é maior de idade\")\n",
    "    print(\"Você pode dirigir, se habilitado!\")\n",
    "    print(\"Voce deve fazer exames médicos a cada 2 anos\")\n",
    "    \n",
    "elif idade >= 18: # É necessário colocar : para endentação no VS Code. Atendeu entra nesse if\n",
    "    print(\"Você é maior de idade\")\n",
    "    print(\"Você pode dirigir, se habilitado!\")\n",
    "else: # não atendeu nenhum if, entra nessa condição e sai\n",
    "    print(\"Você é menor de idade\") "
   ]
  },
  {
   "cell_type": "code",
   "execution_count": 21,
   "metadata": {},
   "outputs": [
    {
     "name": "stdout",
     "output_type": "stream",
     "text": [
      "O maior número é: 3\n"
     ]
    }
   ],
   "source": [
    "## Obtendo o maior número entre dois números\n",
    "num1 = int(input(\"Digite o primeiro número: \"))\n",
    "num2 = int(input(\"Digite o segundo número\"))\n",
    "maior = num1\n",
    "if num2 > maior:\n",
    "    maior = num2\n",
    "print(\"O maior número é:\", maior)\n",
    "        "
   ]
  },
  {
   "cell_type": "code",
   "execution_count": 22,
   "metadata": {},
   "outputs": [
    {
     "name": "stdout",
     "output_type": "stream",
     "text": [
      "O maior número é: 3\n"
     ]
    }
   ],
   "source": [
    "## Obtendo o maior número entre três números\n",
    "num1 = int(input(\"Digite o primeiro número: \"))\n",
    "num2 = int(input(\"Digite o segundo número\"))\n",
    "num3 = int(input(\"Digite o terceiro número\"))\n",
    "maior = num1\n",
    "if num2 > maior:\n",
    "    maior = num2\n",
    "if num3 > maior:\n",
    "    maior = num3\n",
    "print(\"O maior número é:\", maior)"
   ]
  }
 ],
 "metadata": {
  "kernelspec": {
   "display_name": ".venv",
   "language": "python",
   "name": "python3"
  },
  "language_info": {
   "codemirror_mode": {
    "name": "ipython",
    "version": 3
   },
   "file_extension": ".py",
   "mimetype": "text/x-python",
   "name": "python",
   "nbconvert_exporter": "python",
   "pygments_lexer": "ipython3",
   "version": "3.13.2"
  }
 },
 "nbformat": 4,
 "nbformat_minor": 2
}
